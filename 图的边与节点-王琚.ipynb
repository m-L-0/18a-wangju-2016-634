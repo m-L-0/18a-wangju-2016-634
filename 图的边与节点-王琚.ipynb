{
 "cells": [
  {
   "cell_type": "code",
   "execution_count": null,
   "metadata": {},
   "outputs": [],
   "source": [
    "3-1\n",
    "img[1][0:28][0:28][0:3]\n",
    "3-2\n",
    "tf.slice(img,[1,0,0,0],[1,28,28,3])\n",
    "3-3\n",
    "\n",
    "3-4\n",
    "tf.slice(img,[0,0,0,0],[1,28,28,3])\n",
    "tf.slice(img,[2,0,0,0],[1,28,28,3])\n",
    "tf.slice(img,[4,0,0,0],[1,28,28,3])\n",
    "tf.slice(img,[6,0,0,0],[1,28,28,3])\n",
    "3-5\n",
    "tf.slice(img,[5,7,7,0],[3,14,14,3])\n",
    "3-6\n",
    "img1=tf.slice(img,[0,0,0,0],[1,28,28,3])\n",
    "tf.split(img1,[1,1,1],3)\n",
    "3-7\n",
    "1\n",
    "(4,)"
   ]
  }
 ],
 "metadata": {
  "kernelspec": {
   "display_name": "Python 3",
   "language": "python",
   "name": "python3"
  },
  "language_info": {
   "codemirror_mode": {
    "name": "ipython",
    "version": 3
   },
   "file_extension": ".py",
   "mimetype": "text/x-python",
   "name": "python",
   "nbconvert_exporter": "python",
   "pygments_lexer": "ipython3",
   "version": "3.5.2"
  }
 },
 "nbformat": 4,
 "nbformat_minor": 2
}
