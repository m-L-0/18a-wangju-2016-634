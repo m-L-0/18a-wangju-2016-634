{
 "cells": [
  {
   "cell_type": "code",
   "execution_count": 1,
   "metadata": {},
   "outputs": [
    {
     "name": "stdout",
     "output_type": "stream",
     "text": [
      "17\n"
     ]
    }
   ],
   "source": [
    "4\n",
    "4\n",
    "import tensorflow as tf\n",
    "import numpy\n",
    "x=tf.placeholder(dtype=tf.int64)\n",
    "y=tf.placeholder(dtype=tf.int64)\n",
    "# 模型参数\n",
    "w1 = tf.Variable(2, name=\"weight1\",dtype=tf.int64)\n",
    "w2 = tf.Variable(3, name=\"weight2\",dtype=tf.int64)\n",
    "b = tf.Variable(4, name=\"bias\",dtype=tf.int64)\n",
    "# 构建线性模型\n",
    "z=tf.add(tf.multiply(w1,x),tf.multiply(w2,y))\n",
    "pred=tf.add(z,b)  \n",
    "\n",
    "with tf.Session() as sess:\n",
    "    sess.run(tf.global_variables_initializer())\n",
    "    print(sess.run(pred,feed_dict={x:2,y:3}))"
   ]
  },
  {
   "cell_type": "code",
   "execution_count": null,
   "metadata": {},
   "outputs": [],
   "source": []
  }
 ],
 "metadata": {
  "kernelspec": {
   "display_name": "Python 3",
   "language": "python",
   "name": "python3"
  },
  "language_info": {
   "codemirror_mode": {
    "name": "ipython",
    "version": 3
   },
   "file_extension": ".py",
   "mimetype": "text/x-python",
   "name": "python",
   "nbconvert_exporter": "python",
   "pygments_lexer": "ipython3",
   "version": "3.6.7rc1"
  }
 },
 "nbformat": 4,
 "nbformat_minor": 2
}
