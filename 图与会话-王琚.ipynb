{
 "cells": [
  {
   "cell_type": "code",
   "execution_count": 2,
   "metadata": {},
   "outputs": [
    {
     "name": "stdout",
     "output_type": "stream",
     "text": [
      "5\n",
      "5\n"
     ]
    }
   ],
   "source": [
    "2-1\n",
    "import tensorflow as tf\n",
    "x=2\n",
    "y=3\n",
    "g=tf.Graph()\n",
    "with g.as_default():\n",
    "    a=tf.add(x,y)\n",
    "with tf.Session(graph=g) as sess:\n",
    "    print(sess.run(a))\n",
    "\n",
    "sess=tf.Session(graph=g)\n",
    "print(sess.run(a))\n",
    "sess.close()"
   ]
  },
  {
   "cell_type": "code",
   "execution_count": 6,
   "metadata": {},
   "outputs": [
    {
     "name": "stdout",
     "output_type": "stream",
     "text": [
      "5\n"
     ]
    }
   ],
   "source": [
    "2-2\n",
    "#tf.add() 将参数相加 \n",
    "x=2\n",
    "y=3\n",
    "a=tf.add(x,y)\n",
    "with tf.Session() as sess:\n",
    "    print(sess.run(a))\n",
    "    "
   ]
  },
  {
   "cell_type": "code",
   "execution_count": 8,
   "metadata": {},
   "outputs": [
    {
     "name": "stdout",
     "output_type": "stream",
     "text": [
      "-1\n"
     ]
    }
   ],
   "source": [
    "#tf.subtract()    减法操作\n",
    "x=2\n",
    "y=3\n",
    "a=tf.subtract(x,y)\n",
    "with tf.Session() as sess:\n",
    "    print(sess.run(a))\n",
    "    "
   ]
  },
  {
   "cell_type": "code",
   "execution_count": 11,
   "metadata": {},
   "outputs": [
    {
     "name": "stdout",
     "output_type": "stream",
     "text": [
      "6\n"
     ]
    }
   ],
   "source": [
    "#tf.multiply()   乘法操作\n",
    "x=2\n",
    "y=3\n",
    "a=tf.multiply(y,x)\n",
    "with tf.Session() as sess:\n",
    "    print(sess.run(a))\n",
    "    "
   ]
  },
  {
   "cell_type": "code",
   "execution_count": 18,
   "metadata": {
    "scrolled": false
   },
   "outputs": [
    {
     "name": "stdout",
     "output_type": "stream",
     "text": [
      "[[-0.75   nan  2.  ]]\n"
     ]
    }
   ],
   "source": [
    "#tf.divide()   除法操作\n",
    "\n",
    "x = tf.constant([[-1.5, 0, 2]], dtype=tf.float32)\n",
    "y = tf.constant([[2, 0, 1]], dtype=tf.float32)\n",
    "with tf.Session() as sess:  \n",
    "    a=tf.divide(x,y)\n",
    "    print(sess.run(a))"
   ]
  },
  {
   "cell_type": "code",
   "execution_count": 19,
   "metadata": {},
   "outputs": [
    {
     "name": "stdout",
     "output_type": "stream",
     "text": [
      "[[0.5 nan 0. ]]\n"
     ]
    }
   ],
   "source": [
    "#tf.mod()   取模操作\n",
    "x = tf.constant([[-1.5, 0, 2]], dtype=tf.float32)\n",
    "y = tf.constant([[2, 0, 1]], dtype=tf.float32)\n",
    "with tf.Session() as sess:  \n",
    "    a=tf.mod(x,y)\n",
    "    print(sess.run(a))"
   ]
  },
  {
   "cell_type": "code",
   "execution_count": 22,
   "metadata": {},
   "outputs": [
    {
     "name": "stdout",
     "output_type": "stream",
     "text": [
      "[[  256 65536]\n",
      " [    9    27]]\n"
     ]
    }
   ],
   "source": [
    "#tf.pow() 幂值计算\n",
    "x = tf.constant([[2, 2], [3, 3]])\n",
    "y = tf.constant([[8, 16], [2, 3]])\n",
    "with tf.Session() as sess:\n",
    "    print(sess.run(tf.pow(x, y)))  # [[256, 65536], [9, 27]]\n"
   ]
  },
  {
   "cell_type": "code",
   "execution_count": 23,
   "metadata": {},
   "outputs": [
    {
     "name": "stdout",
     "output_type": "stream",
     "text": [
      "[[4 4]\n",
      " [9 9]]\n"
     ]
    }
   ],
   "source": [
    "#tf.square() 计算 x 元素的平方。\n",
    "with tf.Session() as sess:\n",
    "    print(sess.run(tf.square(x)))"
   ]
  },
  {
   "cell_type": "code",
   "execution_count": 26,
   "metadata": {},
   "outputs": [
    {
     "name": "stdout",
     "output_type": "stream",
     "text": [
      "[[1.4142135 1.4142135]\n",
      " [1.7320508 1.7320508]]\n"
     ]
    }
   ],
   "source": [
    "#tf.sqrt() 计算x元素的平方根。\n",
    "#函数参数：\n",
    "\n",
    "    #x：一个 Tensor 或 SparseTensor，\n",
    "    #必须是下列类型之一：half，float32，float64，complex64，complex128。\n",
    "x = tf.constant([[2, 2], [3, 3]],dtype=tf.float32)\n",
    "with tf.Session() as sess:\n",
    "    print(sess.run(tf.sqrt(x)))"
   ]
  },
  {
   "cell_type": "code",
   "execution_count": null,
   "metadata": {},
   "outputs": [],
   "source": []
  }
 ],
 "metadata": {
  "kernelspec": {
   "display_name": "Python 3",
   "language": "python",
   "name": "python3"
  },
  "language_info": {
   "codemirror_mode": {
    "name": "ipython",
    "version": 3
   },
   "file_extension": ".py",
   "mimetype": "text/x-python",
   "name": "python",
   "nbconvert_exporter": "python",
   "pygments_lexer": "ipython3",
   "version": "3.6.5"
  }
 },
 "nbformat": 4,
 "nbformat_minor": 2
}
