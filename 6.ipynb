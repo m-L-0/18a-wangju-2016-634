{
 "cells": [
  {
   "cell_type": "code",
   "execution_count": 2,
   "metadata": {},
   "outputs": [
    {
     "name": "stdout",
     "output_type": "stream",
     "text": [
      "[[5 6]\n",
      " [7 8]]\n"
     ]
    }
   ],
   "source": [
    "6-1\n",
    "tensor1=tf.constant([[1,2],[3,4]],dtype=tf.int64)\n",
    "tensor2=tf.constant([[5,6],[7,8]],dtype=tf.int64)\n",
    "def maxnum(tensor1,tensor2):\n",
    "    res=tf.Variable(tf.zeros(tensor1.shape,dtype=tf.int64 ),dtype=tf.int64)\n",
    "    with tf.Session() as sess:\n",
    "        sess.run(tf.global_variables_initializer())\n",
    "        a=tf.where(tf.greater(tensor1,tensor2),\n",
    "                        tensor1,\n",
    "                        tensor2)\n",
    "        print(sess.run(a))\n",
    "maxnum(tensor1,tensor2)"
   ]
  },
  {
   "cell_type": "code",
   "execution_count": 3,
   "metadata": {},
   "outputs": [
    {
     "name": "stdout",
     "output_type": "stream",
     "text": [
      "[[5 6]\n",
      " [7 8]]\n"
     ]
    }
   ],
   "source": [
    "6-2\n",
    "#tf.maximum：用法tf.maximum(a,b),返回的是a,b之间的最大值，\n",
    "a=tf.constant([[1,2],[3,4]])\n",
    "b=tf.constant([[5,6],[7,8]])\n",
    "f1=tf.maximum(a,b)\n",
    "with tf.Session() as sess:\n",
    "    print(sess.run(f1))"
   ]
  },
  {
   "cell_type": "code",
   "execution_count": 4,
   "metadata": {},
   "outputs": [
    {
     "name": "stdout",
     "output_type": "stream",
     "text": [
      "[[1 2]\n",
      " [3 4]]\n"
     ]
    }
   ],
   "source": [
    "#tf.miniimum：用法tf.miiinimum(a,b),返回的是a,b之间的最小值\n",
    "a=tf.constant([[1,2],[3,4]])\n",
    "b=tf.constant([[5,6],[7,8]])\n",
    "f2=tf.minimum(a,b)\n",
    "with tf.Session() as sess:\n",
    "    print(sess.run(f2))"
   ]
  },
  {
   "cell_type": "code",
   "execution_count": null,
   "metadata": {},
   "outputs": [],
   "source": [
    "6-3\n",
    "#TensorArray可以看做是具有动态size功能的Tensor数组。\n",
    "#通常都是跟while_loop或map_fn结合使用\n",
    "import tensorflow as tf\n",
    "def cond(time,out):\n",
    "    return tf.less(time,3)\n",
    "def body(time,out):\n",
    "    out=out.write(time,[2.4,3.5])\n",
    "    return time+1,out\n",
    "time=tf.constant(0)\n",
    "out=tf.TensorArray(dtype=tf.float32,size=1,dynamic_size=True)\n",
    "result=tf.while_loop(cond,body,[time,out])\n",
    "last_time,last_out=result\n",
    "final_out=last_out.stack()\n",
    "\n",
    "with tf.Session() as sess:\n",
    "    print(last_time.eval())\n",
    "    print(final_out.eval())\n",
    "    "
   ]
  }
 ],
 "metadata": {
  "kernelspec": {
   "display_name": "Python 3",
   "language": "python",
   "name": "python3"
  },
  "language_info": {
   "codemirror_mode": {
    "name": "ipython",
    "version": 3
   },
   "file_extension": ".py",
   "mimetype": "text/x-python",
   "name": "python",
   "nbconvert_exporter": "python",
   "pygments_lexer": "ipython3",
   "version": "3.6.7rc1"
  }
 },
 "nbformat": 4,
 "nbformat_minor": 2
}
